{
  "nbformat": 4,
  "nbformat_minor": 0,
  "metadata": {
    "colab": {
      "provenance": []
    },
    "kernelspec": {
      "name": "python3",
      "display_name": "Python 3"
    },
    "language_info": {
      "name": "python"
    }
  },
  "cells": [
    {
      "cell_type": "markdown",
      "source": [
        "# Задача 1 - оптимизация портфеля акций"
      ],
      "metadata": {
        "id": "4WSDIh6U9IMZ"
      }
    },
    {
      "cell_type": "markdown",
      "source": [
        "## Загрузка данных"
      ],
      "metadata": {
        "id": "qXHVv7jRZDyJ"
      }
    },
    {
      "cell_type": "markdown",
      "source": [
        "Мы будем рассматривать алгоритмы на обрезанном датасете из 4 акций. Решение изначальной задачи для 100 акций может быть сведено к представленному ниже решению, но нами не производилось"
      ],
      "metadata": {
        "id": "wh6xE-VE9UTU"
      }
    },
    {
      "cell_type": "code",
      "execution_count": 40,
      "metadata": {
        "colab": {
          "base_uri": "https://localhost:8080/"
        },
        "id": "XUoDYHY2Y3FE",
        "outputId": "74b2357b-f1bb-44f5-fb39-ad18a72d01a6",
        "collapsed": true
      },
      "outputs": [
        {
          "output_type": "stream",
          "name": "stdout",
          "text": [
            "Requirement already satisfied: qiskit in /usr/local/lib/python3.10/dist-packages (1.2.4)\n",
            "Requirement already satisfied: rustworkx>=0.15.0 in /usr/local/lib/python3.10/dist-packages (from qiskit) (0.15.1)\n",
            "Requirement already satisfied: numpy<3,>=1.17 in /usr/local/lib/python3.10/dist-packages (from qiskit) (1.26.4)\n",
            "Requirement already satisfied: scipy>=1.5 in /usr/local/lib/python3.10/dist-packages (from qiskit) (1.13.1)\n",
            "Requirement already satisfied: sympy>=1.3 in /usr/local/lib/python3.10/dist-packages (from qiskit) (1.13.1)\n",
            "Requirement already satisfied: dill>=0.3 in /usr/local/lib/python3.10/dist-packages (from qiskit) (0.3.9)\n",
            "Requirement already satisfied: python-dateutil>=2.8.0 in /usr/local/lib/python3.10/dist-packages (from qiskit) (2.8.2)\n",
            "Requirement already satisfied: stevedore>=3.0.0 in /usr/local/lib/python3.10/dist-packages (from qiskit) (5.3.0)\n",
            "Requirement already satisfied: typing-extensions in /usr/local/lib/python3.10/dist-packages (from qiskit) (4.12.2)\n",
            "Requirement already satisfied: symengine<0.14,>=0.11 in /usr/local/lib/python3.10/dist-packages (from qiskit) (0.13.0)\n",
            "Requirement already satisfied: six>=1.5 in /usr/local/lib/python3.10/dist-packages (from python-dateutil>=2.8.0->qiskit) (1.16.0)\n",
            "Requirement already satisfied: pbr>=2.0.0 in /usr/local/lib/python3.10/dist-packages (from stevedore>=3.0.0->qiskit) (6.1.0)\n",
            "Requirement already satisfied: mpmath<1.4,>=1.1.0 in /usr/local/lib/python3.10/dist-packages (from sympy>=1.3->qiskit) (1.3.0)\n",
            "Requirement already satisfied: qiskit-algorithms in /usr/local/lib/python3.10/dist-packages (0.3.1)\n",
            "Requirement already satisfied: qiskit>=0.44 in /usr/local/lib/python3.10/dist-packages (from qiskit-algorithms) (1.2.4)\n",
            "Requirement already satisfied: scipy>=1.4 in /usr/local/lib/python3.10/dist-packages (from qiskit-algorithms) (1.13.1)\n",
            "Requirement already satisfied: numpy>=1.17 in /usr/local/lib/python3.10/dist-packages (from qiskit-algorithms) (1.26.4)\n",
            "Requirement already satisfied: rustworkx>=0.15.0 in /usr/local/lib/python3.10/dist-packages (from qiskit>=0.44->qiskit-algorithms) (0.15.1)\n",
            "Requirement already satisfied: sympy>=1.3 in /usr/local/lib/python3.10/dist-packages (from qiskit>=0.44->qiskit-algorithms) (1.13.1)\n",
            "Requirement already satisfied: dill>=0.3 in /usr/local/lib/python3.10/dist-packages (from qiskit>=0.44->qiskit-algorithms) (0.3.9)\n",
            "Requirement already satisfied: python-dateutil>=2.8.0 in /usr/local/lib/python3.10/dist-packages (from qiskit>=0.44->qiskit-algorithms) (2.8.2)\n",
            "Requirement already satisfied: stevedore>=3.0.0 in /usr/local/lib/python3.10/dist-packages (from qiskit>=0.44->qiskit-algorithms) (5.3.0)\n",
            "Requirement already satisfied: typing-extensions in /usr/local/lib/python3.10/dist-packages (from qiskit>=0.44->qiskit-algorithms) (4.12.2)\n",
            "Requirement already satisfied: symengine<0.14,>=0.11 in /usr/local/lib/python3.10/dist-packages (from qiskit>=0.44->qiskit-algorithms) (0.13.0)\n",
            "Requirement already satisfied: six>=1.5 in /usr/local/lib/python3.10/dist-packages (from python-dateutil>=2.8.0->qiskit>=0.44->qiskit-algorithms) (1.16.0)\n",
            "Requirement already satisfied: pbr>=2.0.0 in /usr/local/lib/python3.10/dist-packages (from stevedore>=3.0.0->qiskit>=0.44->qiskit-algorithms) (6.1.0)\n",
            "Requirement already satisfied: mpmath<1.4,>=1.1.0 in /usr/local/lib/python3.10/dist-packages (from sympy>=1.3->qiskit>=0.44->qiskit-algorithms) (1.3.0)\n",
            "Requirement already satisfied: qiskit-finance in /usr/local/lib/python3.10/dist-packages (0.4.1)\n",
            "Requirement already satisfied: qiskit>=0.45 in /usr/local/lib/python3.10/dist-packages (from qiskit-finance) (1.2.4)\n",
            "Requirement already satisfied: qiskit-algorithms>=0.2.0 in /usr/local/lib/python3.10/dist-packages (from qiskit-finance) (0.3.1)\n",
            "Requirement already satisfied: qiskit-optimization>=0.6.0 in /usr/local/lib/python3.10/dist-packages (from qiskit-finance) (0.6.1)\n",
            "Requirement already satisfied: scipy>=1.4 in /usr/local/lib/python3.10/dist-packages (from qiskit-finance) (1.13.1)\n",
            "Requirement already satisfied: numpy>=1.17 in /usr/local/lib/python3.10/dist-packages (from qiskit-finance) (1.26.4)\n",
            "Requirement already satisfied: psutil>=5 in /usr/local/lib/python3.10/dist-packages (from qiskit-finance) (5.9.5)\n",
            "Requirement already satisfied: fastdtw in /usr/local/lib/python3.10/dist-packages (from qiskit-finance) (0.3.4)\n",
            "Requirement already satisfied: setuptools>=40.1.0 in /usr/local/lib/python3.10/dist-packages (from qiskit-finance) (75.1.0)\n",
            "Requirement already satisfied: pandas in /usr/local/lib/python3.10/dist-packages (from qiskit-finance) (2.2.2)\n",
            "Requirement already satisfied: nasdaq-data-link in /usr/local/lib/python3.10/dist-packages (from qiskit-finance) (1.0.4)\n",
            "Requirement already satisfied: yfinance>=0.1.70 in /usr/local/lib/python3.10/dist-packages (from qiskit-finance) (0.2.48)\n",
            "Requirement already satisfied: certifi in /usr/local/lib/python3.10/dist-packages (from qiskit-finance) (2024.8.30)\n",
            "Requirement already satisfied: urllib3 in /usr/local/lib/python3.10/dist-packages (from qiskit-finance) (2.2.3)\n",
            "Requirement already satisfied: rustworkx>=0.15.0 in /usr/local/lib/python3.10/dist-packages (from qiskit>=0.45->qiskit-finance) (0.15.1)\n",
            "Requirement already satisfied: sympy>=1.3 in /usr/local/lib/python3.10/dist-packages (from qiskit>=0.45->qiskit-finance) (1.13.1)\n",
            "Requirement already satisfied: dill>=0.3 in /usr/local/lib/python3.10/dist-packages (from qiskit>=0.45->qiskit-finance) (0.3.9)\n",
            "Requirement already satisfied: python-dateutil>=2.8.0 in /usr/local/lib/python3.10/dist-packages (from qiskit>=0.45->qiskit-finance) (2.8.2)\n",
            "Requirement already satisfied: stevedore>=3.0.0 in /usr/local/lib/python3.10/dist-packages (from qiskit>=0.45->qiskit-finance) (5.3.0)\n",
            "Requirement already satisfied: typing-extensions in /usr/local/lib/python3.10/dist-packages (from qiskit>=0.45->qiskit-finance) (4.12.2)\n",
            "Requirement already satisfied: symengine<0.14,>=0.11 in /usr/local/lib/python3.10/dist-packages (from qiskit>=0.45->qiskit-finance) (0.13.0)\n",
            "Requirement already satisfied: docplex!=2.24.231,>=2.21.207 in /usr/local/lib/python3.10/dist-packages (from qiskit-optimization>=0.6.0->qiskit-finance) (2.28.240)\n",
            "Requirement already satisfied: networkx>=2.6.3 in /usr/local/lib/python3.10/dist-packages (from qiskit-optimization>=0.6.0->qiskit-finance) (3.4.2)\n",
            "Requirement already satisfied: requests>=2.31 in /usr/local/lib/python3.10/dist-packages (from yfinance>=0.1.70->qiskit-finance) (2.32.3)\n",
            "Requirement already satisfied: multitasking>=0.0.7 in /usr/local/lib/python3.10/dist-packages (from yfinance>=0.1.70->qiskit-finance) (0.0.11)\n",
            "Requirement already satisfied: lxml>=4.9.1 in /usr/local/lib/python3.10/dist-packages (from yfinance>=0.1.70->qiskit-finance) (5.3.0)\n",
            "Requirement already satisfied: platformdirs>=2.0.0 in /usr/local/lib/python3.10/dist-packages (from yfinance>=0.1.70->qiskit-finance) (4.3.6)\n",
            "Requirement already satisfied: pytz>=2022.5 in /usr/local/lib/python3.10/dist-packages (from yfinance>=0.1.70->qiskit-finance) (2024.2)\n",
            "Requirement already satisfied: frozendict>=2.3.4 in /usr/local/lib/python3.10/dist-packages (from yfinance>=0.1.70->qiskit-finance) (2.4.6)\n",
            "Requirement already satisfied: peewee>=3.16.2 in /usr/local/lib/python3.10/dist-packages (from yfinance>=0.1.70->qiskit-finance) (3.17.7)\n",
            "Requirement already satisfied: beautifulsoup4>=4.11.1 in /usr/local/lib/python3.10/dist-packages (from yfinance>=0.1.70->qiskit-finance) (4.12.3)\n",
            "Requirement already satisfied: html5lib>=1.1 in /usr/local/lib/python3.10/dist-packages (from yfinance>=0.1.70->qiskit-finance) (1.1)\n",
            "Requirement already satisfied: tzdata>=2022.7 in /usr/local/lib/python3.10/dist-packages (from pandas->qiskit-finance) (2024.2)\n",
            "Requirement already satisfied: inflection>=0.3.1 in /usr/local/lib/python3.10/dist-packages (from nasdaq-data-link->qiskit-finance) (0.5.1)\n",
            "Requirement already satisfied: six in /usr/local/lib/python3.10/dist-packages (from nasdaq-data-link->qiskit-finance) (1.16.0)\n",
            "Requirement already satisfied: more-itertools in /usr/local/lib/python3.10/dist-packages (from nasdaq-data-link->qiskit-finance) (10.5.0)\n",
            "Requirement already satisfied: soupsieve>1.2 in /usr/local/lib/python3.10/dist-packages (from beautifulsoup4>=4.11.1->yfinance>=0.1.70->qiskit-finance) (2.6)\n",
            "Requirement already satisfied: webencodings in /usr/local/lib/python3.10/dist-packages (from html5lib>=1.1->yfinance>=0.1.70->qiskit-finance) (0.5.1)\n",
            "Requirement already satisfied: charset-normalizer<4,>=2 in /usr/local/lib/python3.10/dist-packages (from requests>=2.31->yfinance>=0.1.70->qiskit-finance) (3.4.0)\n",
            "Requirement already satisfied: idna<4,>=2.5 in /usr/local/lib/python3.10/dist-packages (from requests>=2.31->yfinance>=0.1.70->qiskit-finance) (3.10)\n",
            "Requirement already satisfied: pbr>=2.0.0 in /usr/local/lib/python3.10/dist-packages (from stevedore>=3.0.0->qiskit>=0.45->qiskit-finance) (6.1.0)\n",
            "Requirement already satisfied: mpmath<1.4,>=1.1.0 in /usr/local/lib/python3.10/dist-packages (from sympy>=1.3->qiskit>=0.45->qiskit-finance) (1.3.0)\n",
            "Requirement already satisfied: qiskit-aer in /usr/local/lib/python3.10/dist-packages (0.15.1)\n",
            "Requirement already satisfied: qiskit>=1.1.0 in /usr/local/lib/python3.10/dist-packages (from qiskit-aer) (1.2.4)\n",
            "Requirement already satisfied: numpy>=1.16.3 in /usr/local/lib/python3.10/dist-packages (from qiskit-aer) (1.26.4)\n",
            "Requirement already satisfied: scipy>=1.0 in /usr/local/lib/python3.10/dist-packages (from qiskit-aer) (1.13.1)\n",
            "Requirement already satisfied: psutil>=5 in /usr/local/lib/python3.10/dist-packages (from qiskit-aer) (5.9.5)\n",
            "Requirement already satisfied: rustworkx>=0.15.0 in /usr/local/lib/python3.10/dist-packages (from qiskit>=1.1.0->qiskit-aer) (0.15.1)\n",
            "Requirement already satisfied: sympy>=1.3 in /usr/local/lib/python3.10/dist-packages (from qiskit>=1.1.0->qiskit-aer) (1.13.1)\n",
            "Requirement already satisfied: dill>=0.3 in /usr/local/lib/python3.10/dist-packages (from qiskit>=1.1.0->qiskit-aer) (0.3.9)\n",
            "Requirement already satisfied: python-dateutil>=2.8.0 in /usr/local/lib/python3.10/dist-packages (from qiskit>=1.1.0->qiskit-aer) (2.8.2)\n",
            "Requirement already satisfied: stevedore>=3.0.0 in /usr/local/lib/python3.10/dist-packages (from qiskit>=1.1.0->qiskit-aer) (5.3.0)\n",
            "Requirement already satisfied: typing-extensions in /usr/local/lib/python3.10/dist-packages (from qiskit>=1.1.0->qiskit-aer) (4.12.2)\n",
            "Requirement already satisfied: symengine<0.14,>=0.11 in /usr/local/lib/python3.10/dist-packages (from qiskit>=1.1.0->qiskit-aer) (0.13.0)\n",
            "Requirement already satisfied: six>=1.5 in /usr/local/lib/python3.10/dist-packages (from python-dateutil>=2.8.0->qiskit>=1.1.0->qiskit-aer) (1.16.0)\n",
            "Requirement already satisfied: pbr>=2.0.0 in /usr/local/lib/python3.10/dist-packages (from stevedore>=3.0.0->qiskit>=1.1.0->qiskit-aer) (6.1.0)\n",
            "Requirement already satisfied: mpmath<1.4,>=1.1.0 in /usr/local/lib/python3.10/dist-packages (from sympy>=1.3->qiskit>=1.1.0->qiskit-aer) (1.3.0)\n"
          ]
        }
      ],
      "source": [
        "!pip install qiskit\n",
        "!pip install qiskit-algorithms\n",
        "!pip install qiskit-finance\n",
        "!pip install qiskit-aer"
      ]
    },
    {
      "cell_type": "code",
      "source": [
        "from qiskit_algorithms import VQE, QAOA, NumPyMinimumEigensolver\n",
        "from qiskit_algorithms.optimizers import *\n",
        "from qiskit.circuit.library import TwoLocal\n",
        "from qiskit_finance import QiskitFinanceError\n",
        "from qiskit_finance.applications.optimization import PortfolioOptimization\n",
        "from qiskit_finance.data_providers import *\n",
        "from qiskit_optimization.algorithms import MinimumEigenOptimizer\n",
        "from qiskit_optimization.applications import OptimizationApplication\n",
        "from qiskit_optimization.converters import QuadraticProgramToQubo\n",
        "import numpy as np\n",
        "import matplotlib.pyplot as plt\n",
        "%matplotlib inline\n",
        "import datetime\n",
        "import warnings\n",
        "from sympy.utilities.exceptions import SymPyDeprecationWarning\n",
        "warnings.simplefilter(\"ignore\", SymPyDeprecationWarning)\n",
        "\n",
        "from qiskit.circuit.library import TwoLocal\n",
        "from qiskit.result import QuasiDistribution\n",
        "from qiskit_aer.primitives import Sampler\n",
        "from qiskit_algorithms import NumPyMinimumEigensolver, QAOA, SamplingVQE\n",
        "from qiskit_algorithms.optimizers import COBYLA\n",
        "from qiskit_finance.applications.optimization import PortfolioOptimization\n",
        "from qiskit_finance.data_providers import RandomDataProvider\n",
        "from qiskit_optimization.algorithms import MinimumEigenOptimizer\n",
        "import numpy as np\n",
        "import matplotlib.pyplot as plt\n",
        "import datetime"
      ],
      "metadata": {
        "id": "89EM9MqMZOpP"
      },
      "execution_count": 41,
      "outputs": []
    },
    {
      "cell_type": "markdown",
      "source": [
        "### Загрузка данных о цене акций\n",
        "Данные представленны в виде таблицы (предоставленная в задаче таблица обрезана до четырех первых столбцов, т.е. рассматривается возможность покупки только четырех акций)"
      ],
      "metadata": {
        "id": "OJtQUZSCaF8R"
      }
    },
    {
      "cell_type": "code",
      "source": [
        "import pandas as pd\n",
        "from sklearn.preprocessing import StandardScaler\n",
        "from scipy.optimize import minimize"
      ],
      "metadata": {
        "id": "Hi34L-z7cN5S"
      },
      "execution_count": 42,
      "outputs": []
    },
    {
      "cell_type": "code",
      "source": [
        "from google.colab import drive\n",
        "drive.mount('/content/drive')\n",
        "\n",
        "# Загрузка данных\n",
        "\n",
        "import os\n",
        "project_dir = '/content/drive/MyDrive/Colab Notebooks/'\n",
        "url = os.path.join(project_dir, 'task-1-stocks_4.csv')\n",
        "df = pd.read_csv(url)\n",
        "\n",
        "df.info()"
      ],
      "metadata": {
        "colab": {
          "base_uri": "https://localhost:8080/"
        },
        "collapsed": true,
        "id": "u0kMsUqUdjYp",
        "outputId": "f6ab2519-be9b-4b33-94bc-f217083f4482"
      },
      "execution_count": 43,
      "outputs": [
        {
          "output_type": "stream",
          "name": "stdout",
          "text": [
            "Drive already mounted at /content/drive; to attempt to forcibly remount, call drive.mount(\"/content/drive\", force_remount=True).\n",
            "<class 'pandas.core.frame.DataFrame'>\n",
            "MultiIndex: 4 entries, (10.648882865905762, 20.986433029174805, 2.400000095367432, 0.0006000000284984, 2.789999961853028, 76.27999877929688, 48.66471099853516, 33.29999923706055, 106.5669937133789, 0.0768299996852874, 0.0001999999949475, 31.85018539428711, 0.0010999999940395, 0.0076999999582767, 0.1500000059604644, 0.0219999998807907, 133.7638397216797, 9.999999747378752e-05, 20.709999084472656, 26.39114570617676, 52.20442199707031, 130.70469665527344, 12.949999809265137, 183.5534820556641, 156.0373992919922, 133.4199981689453, 107.88322448730467, 76.94000244140625, 333.9274597167969, 571.7899780273438, 186.5947723388672, 71.2486572265625, 228.69381713867188, 227.19000244140625, 71.74485778808594, 80.89761352539062, 18.37508010864257, 81.80249786376953, 67.54439544677734, 167.9458770751953, 223.48016357421875, 116.30999755859376, 138.58070373535156, 256.2200012207031, 142.65957641601562, 120.5829849243164, 150.6299285888672, 9.246994018554688, 135.32000732421875, 159.82492065429688, 294.2049255371094, 376.49066162109375, 211.0269012451172, 148.47000122070312, 229.3999938964844, 343.2200012207031, 288.99908447265625, 35.887062072753906, 267.0435485839844, 47.36885452270508, 84.48999786376953, 122.68238067626952, 115.64037322998048, 180.0691680908203, 105.07544708251952, 194.45323181152344, 131.2808074951172, 247.42999267578125, 184.59654235839844, 2567.590087890625, 243.91000366210932, 32.87981033325195, 55.33782577514648, 37.25021743774414, 42.96108627319336, 73.77546691894531, 237.580795288086, 27.561260223388672, 98.1813735961914, 263.42999267578125, 318.8599853515625, 50.64671325683594, 3384.908447265625, 33.24983215332031, 159.30999755859375, 769.6542358398438, 50.34008407592773, 194.7279663085937, 69.13423919677734, 57.59999847412109, 33.69464492797852, 119.91129302978516, 67.15377044677734, 52.17327499389648, 28.27794647216797) to (10.584343910217283, 20.96700096130371, 2.0, 0.0010999999940395, 2.880000114440918, 76.01000213623047, 48.72237396240234, 32.599998474121094, 105.47181701660156, 0.0649999976158142, 0.0001999999949475, 32.01601791381836, 0.0010999999940395, 0.0076999999582767, 0.1501500010490417, 0.025000000372529, 134.79608154296875, 9.999999747378752e-05, 19.350000381469727, 26.74276733398437, 54.015899658203125, 132.9169921875, 14.579999923706056, 184.8585205078125, 156.98065185546875, 140.0800018310547, 110.72018432617188, 77.12000274658203, 336.3287048339844, 580.5499877929688, 186.6145172119141, 69.23191833496094, 232.87408447265625, 235.4499969482422, 72.70899200439453, 81.99397277832031, 18.510974884033203, 81.48783111572266, 67.16045379638672, 164.00384521484375, 227.2740173339844, 115.98999786376952, 135.0217742919922, 273.94000244140625, 146.96888732910156, 122.78604125976562, 150.7393341064453, 9.449271202087402, 146.17999267578125, 161.0987548828125, 304.1752014160156, 380.34912109375, 212.3931884765625, 149.10000610351562, 245.8500061035156, 348.6300048828125, 293.61883544921875, 32.93797302246094, 268.99566650390625, 48.116153717041016, 84.55999755859375, 126.9887466430664, 116.4536361694336, 181.2971954345703, 106.69041442871094, 193.1287384033203, 130.8186492919922, 251.6100006103516, 188.0654296875, 2553.929931640625, 229.0, 33.49759292602539, 56.64572525024414, 39.73160934448242, 44.99136734008789, 73.88304901123047, 244.7535552978516, 28.59468460083008, 97.09449768066406, 257.9800109863281, 321.9800109863281, 51.52667617797852, 3438.095458984375, 31.79907417297364, 163.8800048828125, 782.453125, 50.4277229309082, 197.5730438232422, 71.86177825927734, 58.41999816894531, 34.74420166015625, 119.90149688720705, 68.8287353515625, 52.53315353393555, 27.746767044067383)\n",
            "Data columns (total 5 columns):\n",
            " #   Column  Non-Null Count  Dtype  \n",
            "---  ------  --------------  -----  \n",
            " 0   S0      4 non-null      float64\n",
            " 1   S1      4 non-null      float64\n",
            " 2   S2      4 non-null      float64\n",
            " 3   S3      4 non-null      float64\n",
            " 4   S4      4 non-null      float64\n",
            "dtypes: float64(5)\n",
            "memory usage: 20.2 KB\n"
          ]
        }
      ]
    },
    {
      "cell_type": "code",
      "source": [
        "# Let's plot our finanical data\n",
        "from matplotlib.pyplot import figure\n",
        "#figure(figsize=(28, 26), dpi=80)\n",
        "\n",
        "data = np.asarray(df)\n",
        "\n",
        "for (cnt, s) in enumerate(df.columns[:4]):\n",
        "    plt.plot(data[cnt][:5], label=s)\n",
        "\n",
        "plt.legend()\n",
        "plt.xticks(rotation=90)\n",
        "plt.xlabel('days')\n",
        "plt.ylabel('stock value')\n",
        "plt.show()"
      ],
      "metadata": {
        "colab": {
          "base_uri": "https://localhost:8080/",
          "height": 462
        },
        "id": "tboh-Z2Qa8qo",
        "outputId": "09deeeee-625e-424b-ca5d-d4b8bbd0c79f"
      },
      "execution_count": 44,
      "outputs": [
        {
          "output_type": "display_data",
          "data": {
            "text/plain": [
              "<Figure size 640x480 with 1 Axes>"
            ],
            "image/png": "[encoded data removed]"
          },
          "metadata": {}
        }
      ]
    },
    {
      "cell_type": "markdown",
      "source": [
        "## Сведение к QUBO виду"
      ],
      "metadata": {
        "id": "QpNnlDOV-E2v"
      }
    },
    {
      "cell_type": "markdown",
      "source": [
        "Сузим постановку задачи. Пусть мы имеем возможность купить каждую акцию не более одного раза. В этом случае задачу можно сформулировать в следующем виде:\n",
        "\n",
        "<div align=\"center\"> <font size=5em >$\\min_{x \\in \\{0, 1\\}^n}: $</font> <font color='red', size=5em >$q x^T\\Sigma x$</font> - <font color='blue', size=5em>$\\mu^T x$</font> </div>\n",
        "\n",
        "<div align=\"center\"> <font size=5em >$subject$</font> <font size=5em >$to: 1^n x = B$</font> </div>\n",
        "\n",
        "\n",
        "- <font size=4em >$x$</font> - характеристический вектор множества купленных акций\n",
        "- <font size=4em >$Σ$</font> (sigma) - матрица ковариации\n",
        "- <font size=4em >$q$</font> - уровень риска\n",
        "- <font size=4em >$𝝁$</font> (mu) - ожидаемая доходность акций\n",
        "- <font size=4em >$n$</font> - число доступных акций\n",
        "- <font size=4em >$B$</font> - сумма портфеля (бюджет)\n",
        "\n"
      ],
      "metadata": {
        "id": "Gh9wZQ2o-TeA"
      }
    },
    {
      "cell_type": "markdown",
      "source": [
        "Подсчитываем ожидаемую доходность и матрицу корреляции"
      ],
      "metadata": {
        "id": "sZ86ZN-FbPdu"
      }
    },
    {
      "cell_type": "code",
      "source": [
        "# Вычисляем дневные доходности\n",
        "returns = df.pct_change().dropna()\n",
        "print(\"Доходности:\\n\", returns.head())\n",
        "\n",
        "# Ожидаемую доходность рассчитываем как среднюю доходность за период\n",
        "mean_returns = returns.mean()\n",
        "print(\"Средняя доходность:\\n\", mean_returns)\n",
        "\n",
        "# Ковариационная матрица\n",
        "cov_matrix = returns.cov()\n",
        "print(\"Ковариационная матрица:\\n\", cov_matrix)\n",
        "\n",
        "mu = np.asarray(mean_returns)\n",
        "sigma = np.asarray(cov_matrix)"
      ],
      "metadata": {
        "colab": {
          "base_uri": "https://localhost:8080/"
        },
        "collapsed": true,
        "id": "Lt1X1It-eLUq",
        "outputId": "9463788c-8041-420d-d868-0d45aa6b4186"
      },
      "execution_count": 45,
      "outputs": [
        {
          "output_type": "stream",
          "name": "stdout",
          "text": [
            "Доходности:\n",
            "                                                                                                                                                                                                                                                                                                                                                                                                                                                                                                                                                                                                                                                                                                                                                                                                                                                                                                                                                                                                      S0  \\\n",
            "10.584344 21.083593 2.02 0.0009 2.73 75.089996 48.703156 33.049999 105.432350 0.07683 0.0002 31.898960 0.0011 0.0077 0.11515 0.022 134.260101 0.0001 20.59 26.733000 51.656998 130.545242 13.09 181.222321 157.009842 133.720001 109.321411 77.470001 333.107239 567.049988 183.740936 69.904160 229.824966 228.919998 71.978592 80.907318 18.316839 80.927338 67.564087 167.046814 224.354126 114.629997 134.379181 261.359985 146.103073 121.337173 148.501541 9.285522 136.009995 159.705475 296.631470 375.006622 211.783768 144.570007 230.559998 344.160004 288.850006 33.250458 266.442139 47.144661 83.589996 122.995575 115.228836 180.363892 104.125519 193.415359 129.560028 244.929993 186.007935 2557.409912 244.940002 33.144577 56.130493 37.738678 42.813248 73.648315 239.991486 27.756245 96.888870 260.279999 316.480011 50.852036 3395.502197 32.593071 157.289993 771.420959 50.671146 194.698334 70.159561 58.169998 33.971889 120.450333 67.037582 52.299721 27.737110  0.007925   \n",
            "10.519805 20.869841 2.00 0.0007 2.63 73.550003 48.712761 32.400002 105.037697 0.07683 0.0002 32.201363 0.0011 0.0077 0.10030 0.021 133.495850 0.0001 20.82 26.742767 51.856056 130.106781 13.60 180.495087 157.671097 135.979996 109.144104 76.809998 332.642792 564.599976 184.214935 68.988350 231.349533 229.520004 72.114937 81.567078 18.248888 81.340332 67.938187 166.058838 223.738373 114.330002 134.280334 264.679993 147.559189 121.843285 148.193207 9.381845 138.580002 159.964249 296.465118 378.034058 210.623886 145.240005 230.919998 344.079987 287.707489 33.533649 266.343536 47.059971 83.480003 123.817696 115.601189 179.460068 104.152321 193.820633 129.687866 244.210007 187.916321 2550.929932 249.000000 33.762360 56.863708 38.256451 44.064926 74.166687 239.181320 28.155966 95.978233 257.880005 316.380005 51.223576 3383.786621 32.759712 159.779999 768.358582 50.856144 193.967331 69.283554 58.160000 34.645187 119.774086 68.121956 52.844410 27.244562  0.001516   \n",
            "10.584344 20.967001 2.00 0.0011 2.88 76.010002 48.722374 32.599998 105.471817 0.06500 0.0002 32.016018 0.0011 0.0077 0.15015 0.025 134.796082 0.0001 19.35 26.742767 54.015900 132.916992 14.58 184.858521 156.980652 140.080002 110.720184 77.120003 336.328705 580.549988 186.614517 69.231918 232.874084 235.449997 72.708992 81.993973 18.510975 81.487831 67.160454 164.003845 227.274017 115.989998 135.021774 273.940002 146.968887 122.786041 150.739334 9.449271 146.179993 161.098755 304.175201 380.349121 212.393188 149.100006 245.850006 348.630005 293.618835 32.937973 268.995667 48.116154 84.559998 126.988747 116.453636 181.297195 106.690414 193.128738 130.818649 251.610001 188.065430 2553.929932 229.000000 33.497593 56.645725 39.731609 44.991367 73.883049 244.753555 28.594685 97.094498 257.980011 321.980011 51.526676 3438.095459 31.799074 163.880005 782.453125 50.427723 197.573044 71.861778 58.419998 34.744202 119.901497 68.828735 52.533154 27.746767 -0.005202   \n",
            "\n",
            "                                                                                                                                                                                                                                                                                                                                                                                                                                                                                                                                                                                                                                                                                                                                                                                                                                                                                                                                                                                                     S1  \\\n",
            "10.584344 21.083593 2.02 0.0009 2.73 75.089996 48.703156 33.049999 105.432350 0.07683 0.0002 31.898960 0.0011 0.0077 0.11515 0.022 134.260101 0.0001 20.59 26.733000 51.656998 130.545242 13.09 181.222321 157.009842 133.720001 109.321411 77.470001 333.107239 567.049988 183.740936 69.904160 229.824966 228.919998 71.978592 80.907318 18.316839 80.927338 67.564087 167.046814 224.354126 114.629997 134.379181 261.359985 146.103073 121.337173 148.501541 9.285522 136.009995 159.705475 296.631470 375.006622 211.783768 144.570007 230.559998 344.160004 288.850006 33.250458 266.442139 47.144661 83.589996 122.995575 115.228836 180.363892 104.125519 193.415359 129.560028 244.929993 186.007935 2557.409912 244.940002 33.144577 56.130493 37.738678 42.813248 73.648315 239.991486 27.756245 96.888870 260.279999 316.480011 50.852036 3395.502197 32.593071 157.289993 771.420959 50.671146 194.698334 70.159561 58.169998 33.971889 120.450333 67.037582 52.299721 27.737110  0.010565   \n",
            "10.519805 20.869841 2.00 0.0007 2.63 73.550003 48.712761 32.400002 105.037697 0.07683 0.0002 32.201363 0.0011 0.0077 0.10030 0.021 133.495850 0.0001 20.82 26.742767 51.856056 130.106781 13.60 180.495087 157.671097 135.979996 109.144104 76.809998 332.642792 564.599976 184.214935 68.988350 231.349533 229.520004 72.114937 81.567078 18.248888 81.340332 67.938187 166.058838 223.738373 114.330002 134.280334 264.679993 147.559189 121.843285 148.193207 9.381845 138.580002 159.964249 296.465118 378.034058 210.623886 145.240005 230.919998 344.079987 287.707489 33.533649 266.343536 47.059971 83.480003 123.817696 115.601189 179.460068 104.152321 193.820633 129.687866 244.210007 187.916321 2550.929932 249.000000 33.762360 56.863708 38.256451 44.064926 74.166687 239.181320 28.155966 95.978233 257.880005 316.380005 51.223576 3383.786621 32.759712 159.779999 768.358582 50.856144 193.967331 69.283554 58.160000 34.645187 119.774086 68.121956 52.844410 27.244562  0.004326   \n",
            "10.584344 20.967001 2.00 0.0011 2.88 76.010002 48.722374 32.599998 105.471817 0.06500 0.0002 32.016018 0.0011 0.0077 0.15015 0.025 134.796082 0.0001 19.35 26.742767 54.015900 132.916992 14.58 184.858521 156.980652 140.080002 110.720184 77.120003 336.328705 580.549988 186.614517 69.231918 232.874084 235.449997 72.708992 81.993973 18.510975 81.487831 67.160454 164.003845 227.274017 115.989998 135.021774 273.940002 146.968887 122.786041 150.739334 9.449271 146.179993 161.098755 304.175201 380.349121 212.393188 149.100006 245.850006 348.630005 293.618835 32.937973 268.995667 48.116154 84.559998 126.988747 116.453636 181.297195 106.690414 193.128738 130.818649 251.610001 188.065430 2553.929932 229.000000 33.497593 56.645725 39.731609 44.991367 73.883049 244.753555 28.594685 97.094498 257.980011 321.980011 51.526676 3438.095459 31.799074 163.880005 782.453125 50.427723 197.573044 71.861778 58.419998 34.744202 119.901497 68.828735 52.533154 27.746767  0.012563   \n",
            "\n",
            "                                                                                                                                                                                                                                                                                                                                                                                                                                                                                                                                                                                                                                                                                                                                                                                                                                                                                                                                                                                                     S2  \\\n",
            "10.584344 21.083593 2.02 0.0009 2.73 75.089996 48.703156 33.049999 105.432350 0.07683 0.0002 31.898960 0.0011 0.0077 0.11515 0.022 134.260101 0.0001 20.59 26.733000 51.656998 130.545242 13.09 181.222321 157.009842 133.720001 109.321411 77.470001 333.107239 567.049988 183.740936 69.904160 229.824966 228.919998 71.978592 80.907318 18.316839 80.927338 67.564087 167.046814 224.354126 114.629997 134.379181 261.359985 146.103073 121.337173 148.501541 9.285522 136.009995 159.705475 296.631470 375.006622 211.783768 144.570007 230.559998 344.160004 288.850006 33.250458 266.442139 47.144661 83.589996 122.995575 115.228836 180.363892 104.125519 193.415359 129.560028 244.929993 186.007935 2557.409912 244.940002 33.144577 56.130493 37.738678 42.813248 73.648315 239.991486 27.756245 96.888870 260.279999 316.480011 50.852036 3395.502197 32.593071 157.289993 771.420959 50.671146 194.698334 70.159561 58.169998 33.971889 120.450333 67.037582 52.299721 27.737110  0.006331   \n",
            "10.519805 20.869841 2.00 0.0007 2.63 73.550003 48.712761 32.400002 105.037697 0.07683 0.0002 32.201363 0.0011 0.0077 0.10030 0.021 133.495850 0.0001 20.82 26.742767 51.856056 130.106781 13.60 180.495087 157.671097 135.979996 109.144104 76.809998 332.642792 564.599976 184.214935 68.988350 231.349533 229.520004 72.114937 81.567078 18.248888 81.340332 67.938187 166.058838 223.738373 114.330002 134.280334 264.679993 147.559189 121.843285 148.193207 9.381845 138.580002 159.964249 296.465118 378.034058 210.623886 145.240005 230.919998 344.079987 287.707489 33.533649 266.343536 47.059971 83.480003 123.817696 115.601189 179.460068 104.152321 193.820633 129.687866 244.210007 187.916321 2550.929932 249.000000 33.762360 56.863708 38.256451 44.064926 74.166687 239.181320 28.155966 95.978233 257.880005 316.380005 51.223576 3383.786621 32.759712 159.779999 768.358582 50.856144 193.967331 69.283554 58.160000 34.645187 119.774086 68.121956 52.844410 27.244562  0.009892   \n",
            "10.584344 20.967001 2.00 0.0011 2.88 76.010002 48.722374 32.599998 105.471817 0.06500 0.0002 32.016018 0.0011 0.0077 0.15015 0.025 134.796082 0.0001 19.35 26.742767 54.015900 132.916992 14.58 184.858521 156.980652 140.080002 110.720184 77.120003 336.328705 580.549988 186.614517 69.231918 232.874084 235.449997 72.708992 81.993973 18.510975 81.487831 67.160454 164.003845 227.274017 115.989998 135.021774 273.940002 146.968887 122.786041 150.739334 9.449271 146.179993 161.098755 304.175201 380.349121 212.393188 149.100006 245.850006 348.630005 293.618835 32.937973 268.995667 48.116154 84.559998 126.988747 116.453636 181.297195 106.690414 193.128738 130.818649 251.610001 188.065430 2553.929932 229.000000 33.497593 56.645725 39.731609 44.991367 73.883049 244.753555 28.594685 97.094498 257.980011 321.980011 51.526676 3438.095459 31.799074 163.880005 782.453125 50.427723 197.573044 71.861778 58.419998 34.744202 119.901497 68.828735 52.533154 27.746767  0.011491   \n",
            "\n",
            "                                                                                                                                                                                                                                                                                                                                                                                                                                                                                                                                                                                                                                                                                                                                                                                                                                                                                                                                                                                                     S3  \\\n",
            "10.584344 21.083593 2.02 0.0009 2.73 75.089996 48.703156 33.049999 105.432350 0.07683 0.0002 31.898960 0.0011 0.0077 0.11515 0.022 134.260101 0.0001 20.59 26.733000 51.656998 130.545242 13.09 181.222321 157.009842 133.720001 109.321411 77.470001 333.107239 567.049988 183.740936 69.904160 229.824966 228.919998 71.978592 80.907318 18.316839 80.927338 67.564087 167.046814 224.354126 114.629997 134.379181 261.359985 146.103073 121.337173 148.501541 9.285522 136.009995 159.705475 296.631470 375.006622 211.783768 144.570007 230.559998 344.160004 288.850006 33.250458 266.442139 47.144661 83.589996 122.995575 115.228836 180.363892 104.125519 193.415359 129.560028 244.929993 186.007935 2557.409912 244.940002 33.144577 56.130493 37.738678 42.813248 73.648315 239.991486 27.756245 96.888870 260.279999 316.480011 50.852036 3395.502197 32.593071 157.289993 771.420959 50.671146 194.698334 70.159561 58.169998 33.971889 120.450333 67.037582 52.299721 27.737110  0.003931   \n",
            "10.519805 20.869841 2.00 0.0007 2.63 73.550003 48.712761 32.400002 105.037697 0.07683 0.0002 32.201363 0.0011 0.0077 0.10030 0.021 133.495850 0.0001 20.82 26.742767 51.856056 130.106781 13.60 180.495087 157.671097 135.979996 109.144104 76.809998 332.642792 564.599976 184.214935 68.988350 231.349533 229.520004 72.114937 81.567078 18.248888 81.340332 67.938187 166.058838 223.738373 114.330002 134.280334 264.679993 147.559189 121.843285 148.193207 9.381845 138.580002 159.964249 296.465118 378.034058 210.623886 145.240005 230.919998 344.079987 287.707489 33.533649 266.343536 47.059971 83.480003 123.817696 115.601189 179.460068 104.152321 193.820633 129.687866 244.210007 187.916321 2550.929932 249.000000 33.762360 56.863708 38.256451 44.064926 74.166687 239.181320 28.155966 95.978233 257.880005 316.380005 51.223576 3383.786621 32.759712 159.779999 768.358582 50.856144 193.967331 69.283554 58.160000 34.645187 119.774086 68.121956 52.844410 27.244562  0.001760   \n",
            "10.584344 20.967001 2.00 0.0011 2.88 76.010002 48.722374 32.599998 105.471817 0.06500 0.0002 32.016018 0.0011 0.0077 0.15015 0.025 134.796082 0.0001 19.35 26.742767 54.015900 132.916992 14.58 184.858521 156.980652 140.080002 110.720184 77.120003 336.328705 580.549988 186.614517 69.231918 232.874084 235.449997 72.708992 81.993973 18.510975 81.487831 67.160454 164.003845 227.274017 115.989998 135.021774 273.940002 146.968887 122.786041 150.739334 9.449271 146.179993 161.098755 304.175201 380.349121 212.393188 149.100006 245.850006 348.630005 293.618835 32.937973 268.995667 48.116154 84.559998 126.988747 116.453636 181.297195 106.690414 193.128738 130.818649 251.610001 188.065430 2553.929932 229.000000 33.497593 56.645725 39.731609 44.991367 73.883049 244.753555 28.594685 97.094498 257.980011 321.980011 51.526676 3438.095459 31.799074 163.880005 782.453125 50.427723 197.573044 71.861778 58.419998 34.744202 119.901497 68.828735 52.533154 27.746767 -0.006588   \n",
            "\n",
            "                                                                                                                                                                                                                                                                                                                                                                                                                                                                                                                                                                                                                                                                                                                                                                                                                                                                                                                                                                                                     S4  \n",
            "10.584344 21.083593 2.02 0.0009 2.73 75.089996 48.703156 33.049999 105.432350 0.07683 0.0002 31.898960 0.0011 0.0077 0.11515 0.022 134.260101 0.0001 20.59 26.733000 51.656998 130.545242 13.09 181.222321 157.009842 133.720001 109.321411 77.470001 333.107239 567.049988 183.740936 69.904160 229.824966 228.919998 71.978592 80.907318 18.316839 80.927338 67.564087 167.046814 224.354126 114.629997 134.379181 261.359985 146.103073 121.337173 148.501541 9.285522 136.009995 159.705475 296.631470 375.006622 211.783768 144.570007 230.559998 344.160004 288.850006 33.250458 266.442139 47.144661 83.589996 122.995575 115.228836 180.363892 104.125519 193.415359 129.560028 244.929993 186.007935 2557.409912 244.940002 33.144577 56.130493 37.738678 42.813248 73.648315 239.991486 27.756245 96.888870 260.279999 316.480011 50.852036 3395.502197 32.593071 157.289993 771.420959 50.671146 194.698334 70.159561 58.169998 33.971889 120.450333 67.037582 52.299721 27.737110 -0.007605  \n",
            "10.519805 20.869841 2.00 0.0007 2.63 73.550003 48.712761 32.400002 105.037697 0.07683 0.0002 32.201363 0.0011 0.0077 0.10030 0.021 133.495850 0.0001 20.82 26.742767 51.856056 130.106781 13.60 180.495087 157.671097 135.979996 109.144104 76.809998 332.642792 564.599976 184.214935 68.988350 231.349533 229.520004 72.114937 81.567078 18.248888 81.340332 67.938187 166.058838 223.738373 114.330002 134.280334 264.679993 147.559189 121.843285 148.193207 9.381845 138.580002 159.964249 296.465118 378.034058 210.623886 145.240005 230.919998 344.079987 287.707489 33.533649 266.343536 47.059971 83.480003 123.817696 115.601189 179.460068 104.152321 193.820633 129.687866 244.210007 187.916321 2550.929932 249.000000 33.762360 56.863708 38.256451 44.064926 74.166687 239.181320 28.155966 95.978233 257.880005 316.380005 51.223576 3383.786621 32.759712 159.779999 768.358582 50.856144 193.967331 69.283554 58.160000 34.645187 119.774086 68.121956 52.844410 27.244562 -0.002420  \n",
            "10.584344 20.967001 2.00 0.0011 2.88 76.010002 48.722374 32.599998 105.471817 0.06500 0.0002 32.016018 0.0011 0.0077 0.15015 0.025 134.796082 0.0001 19.35 26.742767 54.015900 132.916992 14.58 184.858521 156.980652 140.080002 110.720184 77.120003 336.328705 580.549988 186.614517 69.231918 232.874084 235.449997 72.708992 81.993973 18.510975 81.487831 67.160454 164.003845 227.274017 115.989998 135.021774 273.940002 146.968887 122.786041 150.739334 9.449271 146.179993 161.098755 304.175201 380.349121 212.393188 149.100006 245.850006 348.630005 293.618835 32.937973 268.995667 48.116154 84.559998 126.988747 116.453636 181.297195 106.690414 193.128738 130.818649 251.610001 188.065430 2553.929932 229.000000 33.497593 56.645725 39.731609 44.991367 73.883049 244.753555 28.594685 97.094498 257.980011 321.980011 51.526676 3438.095459 31.799074 163.880005 782.453125 50.427723 197.573044 71.861778 58.419998 34.744202 119.901497 68.828735 52.533154 27.746767  0.018887  \n",
            "Средняя доходность:\n",
            " S0    0.001413\n",
            "S1    0.009151\n",
            "S2    0.009238\n",
            "S3   -0.000299\n",
            "S4    0.002954\n",
            "dtype: float64\n",
            "Ковариационная матрица:\n",
            "           S0            S1            S2        S3        S4\n",
            "S0  0.000043 -6.930113e-06 -1.688151e-05  0.000035 -0.000087\n",
            "S1 -0.000007  1.845983e-05  2.115312e-07 -0.000013  0.000033\n",
            "S2 -0.000017  2.115312e-07  6.974810e-06 -0.000013  0.000032\n",
            "S3  0.000035 -1.270494e-05 -1.255761e-05  0.000031 -0.000078\n",
            "S4 -0.000087  3.268205e-05  3.153552e-05 -0.000078  0.000197\n"
          ]
        }
      ]
    },
    {
      "cell_type": "markdown",
      "source": [
        "Приведение к QUBO виду можно непосредственно осуществить в соответствии с формулой выше, но мы используем готовое решение из `qiskit-finance`"
      ],
      "metadata": {
        "id": "vMdUqcKIALlt"
      }
    },
    {
      "cell_type": "code",
      "source": [
        "portfolio = PortfolioOptimization(expected_returns=mu, covariances=sigma,\n",
        "                                  risk_factor=0.2, budget=1000000, bounds=None)\n",
        "qp = portfolio.to_quadratic_program()\n",
        "\n",
        "qp.write_to_lp_file(os.path.join(project_dir, \"qubo\")) # вывод задачи в файл"
      ],
      "metadata": {
        "id": "eQ7QiKsfZZjt"
      },
      "execution_count": 46,
      "outputs": []
    },
    {
      "cell_type": "markdown",
      "source": [
        "Дальнейшеее решение нашей командой произведено не было"
      ],
      "metadata": {
        "id": "-AjZgTuUA6gn"
      }
    },
    {
      "cell_type": "markdown",
      "source": [
        "Файл с выводом выглядит следующим образом\n",
        "![Снимок экрана 2024-11-15 070939.png](data:image/png;base64,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)"
      ],
      "metadata": {
        "id": "03gYyk4LAitH"
      }
    },
    {
      "cell_type": "markdown",
      "source": [
        "Решить задачу классическим способом можно используя оптимизатор `MinimumEigenOptimizer`, также реализованный в `qiskit`"
      ],
      "metadata": {
        "id": "7sHb7zMyBJSK"
      }
    },
    {
      "cell_type": "code",
      "source": [
        "exact_mes = NumPyMinimumEigensolver()\n",
        "exact_eigensolver = MinimumEigenOptimizer(exact_mes)\n",
        "result = exact_eigensolver.solve(qp)\n",
        "\n",
        "print(result)"
      ],
      "metadata": {
        "colab": {
          "base_uri": "https://localhost:8080/"
        },
        "id": "REmxnotu2c0x",
        "outputId": "933d9fee-d5cf-48bd-f326-64157b76fa07"
      },
      "execution_count": 47,
      "outputs": [
        {
          "output_type": "stream",
          "name": "stdout",
          "text": [
            "fval=-0.022443713764875552, x_0=1.0, x_1=1.0, x_2=1.0, x_3=1.0, x_4=1.0, status=INFEASIBLE\n"
          ]
        }
      ]
    },
    {
      "cell_type": "markdown",
      "source": [
        "## Сведение к задаче о рюкзаке"
      ],
      "metadata": {
        "id": "C78hEb4O2H04"
      }
    },
    {
      "cell_type": "markdown",
      "source": [
        "Другая идея решения этой же задачи состоит в том, чтобы свести  задачу к задаче о рюкзаке и решить ее, используюя QAOA (Quantum Approximate Optimisation Algorithm). Решение задачи о рюкзаке с использованием этого алгоритма подробно описано в статье https://arxiv.org/pdf/1908.02210\n",
        "\n"
      ],
      "metadata": {
        "id": "mDbOmvTvX0f8"
      }
    },
    {
      "cell_type": "markdown",
      "source": [
        "### QAOA quantum circuit"
      ],
      "metadata": {
        "id": "JODiQyrSF-Yp"
      }
    },
    {
      "cell_type": "code",
      "source": [
        "from typing import List, Union\n",
        "import math\n",
        "from qiskit import QuantumCircuit, QuantumRegister, ClassicalRegister, assemble\n",
        "from qiskit.compiler import transpile\n",
        "from qiskit.circuit import Gate\n",
        "from qiskit.circuit.library.standard_gates import *\n",
        "from qiskit.circuit.library import QFT"
      ],
      "metadata": {
        "id": "IJ02Z2KRZjIt"
      },
      "execution_count": 49,
      "outputs": []
    },
    {
      "cell_type": "code",
      "source": [
        "def phase_return(index_qubits: int, gamma: float, L1: list, L2: list, to_gate=True) -> Union[Gate, QuantumCircuit]:\n",
        "    qr_index = QuantumRegister(index_qubits, \"index\")\n",
        "    qc = QuantumCircuit(qr_index)\n",
        "\n",
        "    ### U_1(gamma * (lambda2 - lambda1)) for each qubit ###\n",
        "    qr_index = QuantumRegister(index_qubits, \"index\")\n",
        "    qc = QuantumCircuit(qr_index)\n",
        "    for i, (l1, l2) in enumerate(zip(L1, L2)):\n",
        "        qc.p(- gamma * (l2 - l1), qr_index[i])\n",
        "\n",
        "    return qc.to_gate(label=\" phase return \") if to_gate else qc\n",
        "\n",
        "\n",
        "def subroutine_add_const(data_qubits: int, const: int, to_gate=True) -> Union[Gate, QuantumCircuit]:\n",
        "    qc = QuantumCircuit(data_qubits)\n",
        "\n",
        "    ### Phase Rotation ###\n",
        "    const = const % (2 ** data_qubits)\n",
        "\n",
        "    for i in range(data_qubits):\n",
        "        for j in range(data_qubits - i):\n",
        "            if const >> (data_qubits - 1 - (i + j)) & 1:\n",
        "                qc.p(math.pi / (2 ** j), i)\n",
        "\n",
        "    return qc.to_gate(label=\" [+\"+str(const)+\"] \") if to_gate else qc\n",
        "\n",
        "\n",
        "def const_adder(data_qubits: int, const: int, to_gate=True) -> Union[Gate, QuantumCircuit]:\n",
        "\n",
        "    qr_data = QuantumRegister(data_qubits, \"data\")\n",
        "    qc = QuantumCircuit(qr_data)\n",
        "\n",
        "    appr = 0\n",
        "    qc.append( QFT(data_qubits, approximation_degree=appr, do_swaps=False, inverse=False, name='QFT').to_gate(), qr_data[::-1] )\n",
        "    qc.append(subroutine_add_const(data_qubits, const), qr_data)\n",
        "    qc.append( QFT(data_qubits, approximation_degree=appr, do_swaps=False, inverse=True, name='IQFT').to_gate(), qr_data[::-1] )\n",
        "\n",
        "    return qc.to_gate(label=\" [ +\" + str(const) + \"] \") if to_gate else qc\n",
        "\n",
        "def cost_calculation(index_qubits: int, data_qubits: int, list1: list, list2: list, to_gate = True) -> Union[Gate, QuantumCircuit]:\n",
        "\n",
        "    qr_index = QuantumRegister(index_qubits, \"index\")\n",
        "    qr_data = QuantumRegister(data_qubits, \"data\")\n",
        "    qc = QuantumCircuit(qr_index, qr_data)\n",
        "\n",
        "    approx = 0\n",
        "\n",
        "    qc.append( QFT(data_qubits, approximation_degree=approx, do_swaps=False, inverse=False, name='QFT').to_gate(), qr_data[::-1] )\n",
        "\n",
        "    for i, (val1, val2) in enumerate(zip(list1, list2)):\n",
        "\n",
        "        ### Add val2 using const_adder controlled by i-th index register (set to 1) ###\n",
        "        qc.append(subroutine_add_const(data_qubits, val2).control(1), [qr_index[i]] + qr_data[:])\n",
        "        qc.x(qr_index[i])\n",
        "\n",
        "        ### Add val1 using const_adder controlled by i-th index register (set to 0) ###\n",
        "        qc.append(subroutine_add_const(data_qubits, val1).control(1), [qr_index[i]] + qr_data[:])\n",
        "        qc.x(qr_index[i])\n",
        "\n",
        "    qc.append( QFT(data_qubits, approximation_degree=approx, do_swaps=False, inverse=True, name='IQFT').to_gate(), qr_data[::-1] )\n",
        "\n",
        "    return qc.to_gate(label=\" Cost Calculation \") if to_gate else qc\n",
        "\n",
        "\n",
        "def constraint_testing(data_qubits: int, C_max: int, to_gate = True) -> Union[Gate, QuantumCircuit]:\n",
        "\n",
        "    qr_data = QuantumRegister(data_qubits, \"data\")\n",
        "    qr_f = QuantumRegister(1, \"flag\")\n",
        "    qc = QuantumCircuit(qr_data, qr_f)\n",
        "\n",
        "    ### Set the flag register for indices with costs larger than C_max ###\n",
        "    value_c = 2 ** (data_qubits - 1) - C_max - 1\n",
        "\n",
        "    qc.append(const_adder(data_qubits, value_c), qr_data)\n",
        "    qc.append(XGate().control(), [qr_data[0], qr_f])\n",
        "\n",
        "    return qc.to_gate(label=\" Constraint Testing \") if to_gate else qc\n",
        "\n",
        "\n",
        "def penalty_dephasing(data_qubits: int, alpha: float, gamma: float, to_gate = True) -> Union[Gate, QuantumCircuit]:\n",
        "\n",
        "    qr_data = QuantumRegister(data_qubits, \"data\")\n",
        "    qr_f = QuantumRegister(1, \"flag\")\n",
        "    qc = QuantumCircuit(qr_data, qr_f)\n",
        "\n",
        "    ### Phase Rotation ###\n",
        "    num_carry = 1\n",
        "\n",
        "    for i in range(data_qubits - num_carry):\n",
        "        qc.append(PhaseGate(2 ** i * alpha * gamma).control(), [qr_f[:], qr_data[data_qubits - 1 - i]])\n",
        "    qc.append(PhaseGate(- (2 ** (data_qubits - 1)) * alpha * gamma), qr_f)\n",
        "\n",
        "    return qc.to_gate(label=\" Penalty Dephasing \") if to_gate else qc\n",
        "\n",
        "def reinitialization(index_qubits: int, data_qubits: int, C1: list, C2: list, C_max: int, to_gate = True) -> Union[Gate, QuantumCircuit]:\n",
        "\n",
        "    qr_index = QuantumRegister(index_qubits, \"index\")\n",
        "    qr_data = QuantumRegister(data_qubits, \"data\")\n",
        "    qr_f = QuantumRegister(1, \"flag\")\n",
        "    qc = QuantumCircuit(qr_index, qr_data, qr_f)\n",
        "\n",
        "    ### Reinitialization Circuit ###\n",
        "    value_c = 2 ** (data_qubits - 1) - C_max - 1\n",
        "    qc.append(XGate().control(), [qr_data[0], qr_f])\n",
        "    qc.append(const_adder(data_qubits, value_c).inverse(), qr_data)\n",
        "\n",
        "    qc.append(cost_calculation(index_qubits, data_qubits, C1, C2).inverse(), qr_index[:] + qr_data[:])\n",
        "\n",
        "\n",
        "    return qc.to_gate(label=\" Reinitialization \") if to_gate else qc\n",
        "\n",
        "\n",
        "def mixing_operator(index_qubits: int, beta: float, to_gate = True) -> Union[Gate, QuantumCircuit]:\n",
        "\n",
        "    qr_index = QuantumRegister(index_qubits, \"index\")\n",
        "    qc = QuantumCircuit(qr_index)\n",
        "\n",
        "    ### Mixing Operator ###\n",
        "    qr_index = QuantumRegister(index_qubits, \"index\")\n",
        "    qc = QuantumCircuit(qr_index)\n",
        "\n",
        "    qc.rx(2 * beta, qr_index)\n",
        "\n",
        "    return qc.to_gate(label=\" Mixing Operator \") if to_gate else qc"
      ],
      "metadata": {
        "id": "TfB1E7SaF3km"
      },
      "execution_count": 50,
      "outputs": []
    },
    {
      "cell_type": "code",
      "source": [
        "def solver_function(L1: list, L2: list, C1: list, C2: list, C_max: int) -> QuantumCircuit:\n",
        "    # the number of qubits representing answers\n",
        "    index_qubits = len(L1)\n",
        "\n",
        "    # the maximum possible total cost\n",
        "    max_c = sum([max(l0, l1) for l0, l1 in zip(C1, C2)])\n",
        "\n",
        "    # the number of qubits representing data values can be defined using the maximum possible total cost as follows:\n",
        "    data_qubits = math.ceil(math.log(max_c, 2)) + 1 if not max_c & (max_c - 1) == 0 else math.ceil(math.log(max_c, 2)) + 2\n",
        "\n",
        "    qr_index = QuantumRegister(index_qubits, \"index\") # index register\n",
        "    qr_data = QuantumRegister(data_qubits, \"data\") # data register\n",
        "    qr_f = QuantumRegister(1, \"flag\") # flag register\n",
        "    cr_index = ClassicalRegister(index_qubits, \"c_index\") # classical register storing the measurement result of index register\n",
        "    qc = QuantumCircuit(qr_index, qr_data, qr_f, cr_index)\n",
        "\n",
        "    ### initialize the index register with uniform superposition state ###\n",
        "    qc.h(qr_index)\n",
        "\n",
        "    p = 5\n",
        "    alpha = 1\n",
        "    for i in range(p):\n",
        "\n",
        "        ### set fixed parameters for each round ###\n",
        "        beta = 1 - (i + 1) / p\n",
        "        gamma = (i + 1) / p\n",
        "\n",
        "        ### return part ###\n",
        "        qc.append(phase_return(index_qubits, gamma, L1, L2), qr_index)\n",
        "\n",
        "        ### step 1: cost calculation ###\n",
        "        qc.append(cost_calculation(index_qubits, data_qubits, C1, C2), qr_index[:] + qr_data[:])\n",
        "\n",
        "        ### step 2: Constraint testing ###\n",
        "        qc.append(constraint_testing(data_qubits, C_max), qr_data[:] + qr_f[:])\n",
        "\n",
        "        ### step 3: penalty dephasing ###\n",
        "        qc.append(penalty_dephasing(data_qubits, alpha, gamma), qr_data[:] + qr_f[:])\n",
        "\n",
        "        ### step 4: reinitialization ###\n",
        "        qc.append(reinitialization(index_qubits, data_qubits, C1, C2, C_max), qr_index[:] + qr_data[:] + qr_f[:])\n",
        "\n",
        "        ### mixing operator ###\n",
        "        qc.append(mixing_operator(index_qubits, beta), qr_index)\n",
        "\n",
        "    ### measure the index ###\n",
        "    ### since the default measurement outcome is shown in big endian, it is necessary to reverse the classical bits in order to unify the endian ###\n",
        "    qc.measure(qr_index, cr_index[::-1])\n",
        "\n",
        "    return qc"
      ],
      "metadata": {
        "id": "Xa7ZoZFfGTSd"
      },
      "execution_count": 37,
      "outputs": []
    },
    {
      "cell_type": "code",
      "source": [
        "print(qc)"
      ],
      "metadata": {
        "colab": {
          "base_uri": "https://localhost:8080/",
          "height": 141
        },
        "id": "HDdAbbUmHLa2",
        "outputId": "1cbb945e-3400-4f98-dfcd-511c51d6c02d"
      },
      "execution_count": 39,
      "outputs": [
        {
          "output_type": "error",
          "ename": "NameError",
          "evalue": "name 'qc' is not defined",
          "traceback": [
            "\u001b[0;31m---------------------------------------------------------------------------\u001b[0m",
            "\u001b[0;31mNameError\u001b[0m                                 Traceback (most recent call last)",
            "\u001b[0;32m<ipython-input-39-41cea55f5a9b>\u001b[0m in \u001b[0;36m<cell line: 1>\u001b[0;34m()\u001b[0m\n\u001b[0;32m----> 1\u001b[0;31m \u001b[0mprint\u001b[0m\u001b[0;34m(\u001b[0m\u001b[0mqc\u001b[0m\u001b[0;34m)\u001b[0m\u001b[0;34m\u001b[0m\u001b[0;34m\u001b[0m\u001b[0m\n\u001b[0m",
            "\u001b[0;31mNameError\u001b[0m: name 'qc' is not defined"
          ]
        }
      ]
    },
    {
      "cell_type": "code",
      "source": [],
      "metadata": {
        "id": "fKorZP3aHORV"
      },
      "execution_count": null,
      "outputs": []
    }
  ]
}