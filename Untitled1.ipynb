{
  "nbformat": 4,
  "nbformat_minor": 0,
  "metadata": {
    "colab": {
      "provenance": [],
      "authorship_tag": "ABX9TyOhD2262P6DCulOjciRV3DQ",
      "include_colab_link": true
    },
    "kernelspec": {
      "name": "python3",
      "display_name": "Python 3"
    },
    "language_info": {
      "name": "python"
    }
  },
  "cells": [
    {
      "cell_type": "markdown",
      "metadata": {
        "id": "view-in-github",
        "colab_type": "text"
      },
      "source": [
        "<a href=\"https://colab.research.google.com/github/multsidar/UNN2_qnt_heck/blob/main/Untitled1.ipynb\" target=\"_parent\"><img src=\"https://colab.research.google.com/assets/colab-badge.svg\" alt=\"Open In Colab\"/></a>"
      ]
    },
    {
      "cell_type": "code",
      "source": [
        "!pip install qiskit"
      ],
      "metadata": {
        "colab": {
          "base_uri": "https://localhost:8080/"
        },
        "id": "l5GO_Rs_ox3G",
        "outputId": "24cd7453-a2f8-474e-b053-bd6092c4527d"
      },
      "execution_count": null,
      "outputs": [
        {
          "output_type": "stream",
          "name": "stdout",
          "text": [
            "Collecting qiskit\n",
            "  Downloading qiskit-1.2.4-cp38-abi3-manylinux_2_17_x86_64.manylinux2014_x86_64.whl.metadata (12 kB)\n",
            "Collecting rustworkx>=0.15.0 (from qiskit)\n",
            "  Downloading rustworkx-0.15.1-cp38-abi3-manylinux_2_17_x86_64.manylinux2014_x86_64.whl.metadata (9.9 kB)\n",
            "Requirement already satisfied: numpy<3,>=1.17 in /usr/local/lib/python3.10/dist-packages (from qiskit) (1.26.4)\n",
            "Requirement already satisfied: scipy>=1.5 in /usr/local/lib/python3.10/dist-packages (from qiskit) (1.13.1)\n",
            "Requirement already satisfied: sympy>=1.3 in /usr/local/lib/python3.10/dist-packages (from qiskit) (1.13.1)\n",
            "Collecting dill>=0.3 (from qiskit)\n",
            "  Downloading dill-0.3.9-py3-none-any.whl.metadata (10 kB)\n",
            "Requirement already satisfied: python-dateutil>=2.8.0 in /usr/local/lib/python3.10/dist-packages (from qiskit) (2.8.2)\n",
            "Collecting stevedore>=3.0.0 (from qiskit)\n",
            "  Downloading stevedore-5.3.0-py3-none-any.whl.metadata (2.3 kB)\n",
            "Requirement already satisfied: typing-extensions in /usr/local/lib/python3.10/dist-packages (from qiskit) (4.12.2)\n",
            "Collecting symengine<0.14,>=0.11 (from qiskit)\n",
            "  Downloading symengine-0.13.0-cp310-cp310-manylinux_2_17_x86_64.manylinux2014_x86_64.whl.metadata (1.2 kB)\n",
            "Requirement already satisfied: six>=1.5 in /usr/local/lib/python3.10/dist-packages (from python-dateutil>=2.8.0->qiskit) (1.16.0)\n",
            "Collecting pbr>=2.0.0 (from stevedore>=3.0.0->qiskit)\n",
            "  Downloading pbr-6.1.0-py2.py3-none-any.whl.metadata (3.4 kB)\n",
            "Requirement already satisfied: mpmath<1.4,>=1.1.0 in /usr/local/lib/python3.10/dist-packages (from sympy>=1.3->qiskit) (1.3.0)\n",
            "Downloading qiskit-1.2.4-cp38-abi3-manylinux_2_17_x86_64.manylinux2014_x86_64.whl (4.8 MB)\n",
            "\u001b[2K   \u001b[90m━━━━━━━━━━━━━━━━━━━━━━━━━━━━━━━━━━━━━━━━\u001b[0m \u001b[32m4.8/4.8 MB\u001b[0m \u001b[31m14.9 MB/s\u001b[0m eta \u001b[36m0:00:00\u001b[0m\n",
            "\u001b[?25hDownloading dill-0.3.9-py3-none-any.whl (119 kB)\n",
            "\u001b[2K   \u001b[90m━━━━━━━━━━━━━━━━━━━━━━━━━━━━━━━━━━━━━━━━\u001b[0m \u001b[32m119.4/119.4 kB\u001b[0m \u001b[31m4.5 MB/s\u001b[0m eta \u001b[36m0:00:00\u001b[0m\n",
            "\u001b[?25hDownloading rustworkx-0.15.1-cp38-abi3-manylinux_2_17_x86_64.manylinux2014_x86_64.whl (2.0 MB)\n",
            "\u001b[2K   \u001b[90m━━━━━━━━━━━━━━━━━━━━━━━━━━━━━━━━━━━━━━━━\u001b[0m \u001b[32m2.0/2.0 MB\u001b[0m \u001b[31m12.0 MB/s\u001b[0m eta \u001b[36m0:00:00\u001b[0m\n",
            "\u001b[?25hDownloading stevedore-5.3.0-py3-none-any.whl (49 kB)\n",
            "\u001b[2K   \u001b[90m━━━━━━━━━━━━━━━━━━━━━━━━━━━━━━━━━━━━━━━━\u001b[0m \u001b[32m49.7/49.7 kB\u001b[0m \u001b[31m1.2 MB/s\u001b[0m eta \u001b[36m0:00:00\u001b[0m\n",
            "\u001b[?25hDownloading symengine-0.13.0-cp310-cp310-manylinux_2_17_x86_64.manylinux2014_x86_64.whl (49.7 MB)\n",
            "\u001b[2K   \u001b[90m━━━━━━━━━━━━━━━━━━━━━━━━━━━━━━━━━━━━━━━━\u001b[0m \u001b[32m49.7/49.7 MB\u001b[0m \u001b[31m14.6 MB/s\u001b[0m eta \u001b[36m0:00:00\u001b[0m\n",
            "\u001b[?25hDownloading pbr-6.1.0-py2.py3-none-any.whl (108 kB)\n",
            "\u001b[2K   \u001b[90m━━━━━━━━━━━━━━━━━━━━━━━━━━━━━━━━━━━━━━━━\u001b[0m \u001b[32m108.5/108.5 kB\u001b[0m \u001b[31m5.6 MB/s\u001b[0m eta \u001b[36m0:00:00\u001b[0m\n",
            "\u001b[?25hInstalling collected packages: symengine, rustworkx, pbr, dill, stevedore, qiskit\n",
            "Successfully installed dill-0.3.9 pbr-6.1.0 qiskit-1.2.4 rustworkx-0.15.1 stevedore-5.3.0 symengine-0.13.0\n"
          ]
        }
      ]
    },
    {
      "cell_type": "code",
      "execution_count": null,
      "metadata": {
        "colab": {
          "base_uri": "https://localhost:8080/",
          "height": 383
        },
        "id": "_gaLszw5ow77",
        "outputId": "f66b993b-6482-4e53-893e-feb84001a2f5"
      },
      "outputs": [
        {
          "output_type": "error",
          "ename": "ModuleNotFoundError",
          "evalue": "No module named 'qiskit.opflow'",
          "traceback": [
            "\u001b[0;31m---------------------------------------------------------------------------\u001b[0m",
            "\u001b[0;31mModuleNotFoundError\u001b[0m                       Traceback (most recent call last)",
            "\u001b[0;32m<ipython-input-2-7af159ed84f6>\u001b[0m in \u001b[0;36m<cell line: 3>\u001b[0;34m()\u001b[0m\n\u001b[1;32m      1\u001b[0m \u001b[0;32mfrom\u001b[0m \u001b[0mqiskit\u001b[0m \u001b[0;32mimport\u001b[0m \u001b[0mQuantumCircuit\u001b[0m\u001b[0;34m,\u001b[0m \u001b[0mClassicalRegister\u001b[0m\u001b[0;34m,\u001b[0m \u001b[0mQuantumRegister\u001b[0m\u001b[0;34m\u001b[0m\u001b[0;34m\u001b[0m\u001b[0m\n\u001b[1;32m      2\u001b[0m \u001b[0;32mfrom\u001b[0m \u001b[0mqiskit\u001b[0m\u001b[0;34m.\u001b[0m\u001b[0mcircuit\u001b[0m \u001b[0;32mimport\u001b[0m \u001b[0mParameterVector\u001b[0m\u001b[0;34m\u001b[0m\u001b[0;34m\u001b[0m\u001b[0m\n\u001b[0;32m----> 3\u001b[0;31m \u001b[0;32mfrom\u001b[0m \u001b[0mqiskit\u001b[0m\u001b[0;34m.\u001b[0m\u001b[0mopflow\u001b[0m \u001b[0;32mimport\u001b[0m \u001b[0mZ\u001b[0m\u001b[0;34m,\u001b[0m \u001b[0mI\u001b[0m\u001b[0;34m,\u001b[0m \u001b[0mX\u001b[0m\u001b[0;34m,\u001b[0m \u001b[0mY\u001b[0m\u001b[0;34m,\u001b[0m \u001b[0mHamiltonian\u001b[0m\u001b[0;34m,\u001b[0m \u001b[0mSummedOp\u001b[0m\u001b[0;34m\u001b[0m\u001b[0;34m\u001b[0m\u001b[0m\n\u001b[0m\u001b[1;32m      4\u001b[0m \u001b[0;32mfrom\u001b[0m \u001b[0mqiskit\u001b[0m\u001b[0;34m.\u001b[0m\u001b[0maqua\u001b[0m\u001b[0;34m.\u001b[0m\u001b[0malgorithms\u001b[0m \u001b[0;32mimport\u001b[0m \u001b[0mVQE\u001b[0m\u001b[0;34m\u001b[0m\u001b[0;34m\u001b[0m\u001b[0m\n\u001b[1;32m      5\u001b[0m \u001b[0;32mfrom\u001b[0m \u001b[0mqiskit\u001b[0m\u001b[0;34m.\u001b[0m\u001b[0maqua\u001b[0m\u001b[0;34m.\u001b[0m\u001b[0mcomponents\u001b[0m\u001b[0;34m.\u001b[0m\u001b[0moptimizers\u001b[0m \u001b[0;32mimport\u001b[0m \u001b[0mCOBYLA\u001b[0m\u001b[0;34m\u001b[0m\u001b[0;34m\u001b[0m\u001b[0m\n",
            "\u001b[0;31mModuleNotFoundError\u001b[0m: No module named 'qiskit.opflow'",
            "",
            "\u001b[0;31m---------------------------------------------------------------------------\u001b[0;32m\nNOTE: If your import is failing due to a missing package, you can\nmanually install dependencies using either !pip or !apt.\n\nTo view examples of installing some common dependencies, click the\n\"Open Examples\" button below.\n\u001b[0;31m---------------------------------------------------------------------------\u001b[0m\n"
          ],
          "errorDetails": {
            "actions": [
              {
                "action": "open_url",
                "actionText": "Open Examples",
                "url": "/notebooks/snippets/importing_libraries.ipynb"
              }
            ]
          }
        }
      ],
      "source": [
        "from qiskit import QuantumCircuit, ClassicalRegister, QuantumRegister\n",
        "from qiskit.circuit import ParameterVector\n",
        "from qiskit.opflow import Z, I, X, Y, Hamiltonian, SummedOp\n",
        "from qiskit.aqua.algorithms import VQE\n",
        "from qiskit.aqua.components.optimizers import COBYLA\n",
        "from math import log2, ceil\n",
        "import pandas as pd\n",
        "\n",
        "# Загружаем данные о карте\n",
        "data = pd.read_csv(\"\").values  # Матрица расстояний (замените на ваш путь к файлу)\n",
        "\n",
        "# Параметры задачи\n",
        "num_buses = 15\n",
        "bus_capacity = 10\n",
        "num_nodes = data.shape[0]  # Количество узлов (достопримечательностей и перекрестков)\n",
        "num_edges = 203 # Количество дорог\n",
        "time_limit = 15\n",
        "\n",
        "# Инициализация квантовых регистров\n",
        "route_qubits = [\n",
        "    [Qubit(f\"r{i}_{j}\") for j in range(num_nodes)] for i in range(num_buses)\n",
        "]\n",
        "\n",
        "# Определяем узлы, соответствующие вокзалу\n",
        "station = 0  # (Предполагаем, что узел 0 - вокзал)\n",
        "\n",
        "# Оператор ограничения на вместимость автобуса\n",
        "bus_capacity_operators = []\n",
        "for i in range(num_buses):\n",
        "    for j in range(num_nodes):\n",
        "        # Проверяем, посещает ли автобус узел, и добавляем оператор ограничения на вместимость\n",
        "        # (используя информацию о размере группы туристов для каждого узла)\n",
        "        if data[j] > 0:  # Если узел - достопримечательность\n",
        "            bus_capacity_operators.append(\n",
        "                Z(route_qubits[i][j]) * (I - Z(route_qubits[i][j]))\n",
        "            )\n",
        "\n",
        "# Оператор ограничения на время маршрута\n",
        "time_limit_operators = []\n",
        "for i in range(num_buses):\n",
        "    # Инициализация счетчика времени для автобуса\n",
        "    bus_time = 0\n",
        "    for j in range(num_nodes):\n",
        "        # Проверяем, посещает ли автобус узел, и добавляем оператор ограничения на время\n",
        "        # (используя информацию о времени перемещения по дороге)\n",
        "        if data[j] > 0:\n",
        "            # Увеличиваем счетчик времени на время перемещения до этого узла\n",
        "            bus_time += data[j]\n",
        "            # Проверяем, не превышает ли время маршрута лимит\n",
        "            if bus_time > time_limit:\n",
        "                time_limit_operators.append(\n",
        "                    Z(route_qubits[i][j]) * (I - Z(route_qubits[i][j]))\n",
        "                )\n",
        "            else:\n",
        "                # Если время маршрута не превышает лимит, то добавляем\n",
        "                # оператор, который не будет штрафовать за посещение этого узла\n",
        "                time_limit_operators.append(\n",
        "                    I\n",
        "                )\n",
        "# Оператор ограничения на посещение достопримечательности ровно один раз\n",
        "visit_once_operators = []\n",
        "for j in range(num_nodes):\n",
        "    # Проверяем, является ли узел достопримечательностью\n",
        "    if data[j] > 0:\n",
        "        for i in range(num_buses):\n",
        "            for k in range(i + 1, num_buses):\n",
        "                # Проверяем, посещают ли оба автобуса этот узел\n",
        "                visit_once_operators.append(\n",
        "                    Z(route_qubits[i][j]) * Z(route_qubits[k][j])\n",
        "                )\n",
        "\n",
        "# Оператор ограничения на начало маршрута на вокзале\n",
        "start_at_operators = []\n",
        "for i in range(num_buses):\n",
        "    start_at_operators.append(Z(route_qubits[i][station]))\n",
        "\n",
        "# Оператор ограничения на конец маршрута на вокзале\n",
        "end_at_operators = []\n",
        "for i in range(num_buses):\n",
        "    # Находим последний узел в маршруте\n",
        "    last_node = np.argmax(data[i])  # (Находим узел с наибольшим значением в строке)\n",
        "    end_at_operators.append(\n",
        "        Z(route_qubits[i][last_node]) * Z(route_qubits[i][station])\n",
        "    )\n",
        "\n",
        "# Оператор ограничения на проезд по дороге не более 1 машиной\n",
        "road_usage_operators = []\n",
        "for i in range(num_edges):  # Для каждой дороги\n",
        "    for j in range(num_buses):  # Для каждого автобуса\n",
        "        for k in range(j + 1, num_buses):  # Для каждого другого автобуса\n",
        "            # Проверяем, едут ли оба автобуса по этой дороге одновременно\n",
        "            # (используя биты, представляющие узлы, соединенные этой дорогой)\n",
        "            edge_nodes = np.where(data == i)[0]  # (Находим узлы, соединенные этой дорогой)\n",
        "            road_usage_operators.append(\n",
        "                Z(route_qubits[j][edge_nodes[0]]) * Z(route_qubits[k][edge_nodes[1]])\n",
        "            )\n",
        "\n",
        "# Оператор стоимости маршрута (определяем стоимость каждого ребра)\n",
        "cost_operator = SummedOp(\n",
        "    [\n",
        "        Z(route_qubits[i][j]) * Z(route_qubits[i][k]) * data[j][k]\n",
        "        for i in range(num_buses)\n",
        "        for j in range(num_nodes)\n",
        "        for k in range(num_nodes)\n",
        "        if data[j][k] > 0\n",
        "    ]\n",
        ")\n",
        "\n",
        "# Создание гамильтониана\n",
        "hamiltonian = Hamiltonian(\n",
        "    cost_operator\n",
        "    + SummedOp(bus_capacity_operators)\n",
        "    + SummedOp(time_limit_operators)\n",
        "    + SummedOp(visit_once_operators)\n",
        "    + SummedOp(road_usage_operators)\n",
        "    + SummedOp(start_at_operators)\n",
        "    + SummedOp(end_at_operators)\n",
        ")\n",
        "# Создаем квантовую схему\n",
        "circuit = QuantumCircuit(*[q for bus in route_qubits for q in bus])\n",
        "\n",
        "# Задаем параметры для VQE (количество итераций, точность)\n",
        "optimizer =COBYLA()  # Выберем оптимизатор COBYLA\n",
        "vqe = VQE(hamiltonian, optimizer)\n",
        "\n",
        "# Запускаем алгоритм VQE и получаем решение\n",
        "result = vqe.run()\n",
        "print(\"Результат VQE:\", result)"
      ]
    },
    {
      "cell_type": "code",
      "source": [],
      "metadata": {
        "id": "X6sraBZ5rqNB"
      },
      "execution_count": null,
      "outputs": []
    }
  ]
}